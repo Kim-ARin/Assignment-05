{
  "nbformat": 4,
  "nbformat_minor": 0,
  "metadata": {
    "colab": {
      "provenance": [],
      "toc_visible": true
    },
    "kernelspec": {
      "name": "python3",
      "display_name": "Python 3"
    },
    "language_info": {
      "name": "python"
    }
  },
  "cells": [
    {
      "cell_type": "markdown",
      "source": [
        "#\"과제3\"\n"
      ],
      "metadata": {
        "id": "SwFVfQ5Xc-HE"
      }
    },
    {
      "cell_type": "code",
      "source": [
        "from google.colab import drive\n",
        "drive.mount('/content/drive')\n"
      ],
      "metadata": {
        "colab": {
          "base_uri": "https://localhost:8080/"
        },
        "id": "UFgbUgKhdDpu",
        "outputId": "613d02aa-fa8a-4e31-a393-102d19bd6363"
      },
      "execution_count": 1,
      "outputs": [
        {
          "output_type": "stream",
          "name": "stdout",
          "text": [
            "Mounted at /content/drive\n"
          ]
        }
      ]
    },
    {
      "cell_type": "code",
      "source": [
        "class Heap:\n",
        "    def __init__(self, *args):\n",
        "        if len(args) != 0:\n",
        "            self.__A = args[0]\n",
        "        else:\n",
        "            self.__A = []\n",
        "\n",
        "    def insert(self, x):\n",
        "        self.__A.append(x)\n",
        "        self.__percolateUp(len(self.__A) - 1)\n",
        "\n",
        "    def __percolateUp(self, i: int):\n",
        "        parent = (i - 1) // 2\n",
        "        if i > 0 and self.__A[i] > self.__A[parent]:\n",
        "            self.__A[i], self.__A[parent] = self.__A[parent], self.__A[i]\n",
        "            self.__percolateUp(parent)\n",
        "\n",
        "    def deleteMax(self):\n",
        "        if not self.isEmpty():\n",
        "            max_val = self.__A[0]\n",
        "            self.__A[0] = self.__A.pop()\n",
        "            self.__percolateDown(0)\n",
        "            return max_val\n",
        "        else:\n",
        "            return None\n",
        "\n",
        "    def __percolateDown(self, i: int):\n",
        "        child = 2 * i + 1\n",
        "        right = 2 * i + 2\n",
        "        if child <= len(self.__A) - 1:\n",
        "            if right <= len(self.__A) - 1 and self.__A[child] < self.__A[right]:\n",
        "                child = right\n",
        "            if self.__A[i] < self.__A[child]:\n",
        "                self.__A[i], self.__A[child] = self.__A[child], self.__A[i]\n",
        "                self.__percolateDown(child)\n",
        "\n",
        "    def max(self):\n",
        "        return self.__A[0]\n",
        "\n",
        "    def buildHeap(self):\n",
        "        for i in range((len(self.__A) - 2) // 2, -1, -1):\n",
        "            self.__percolateDown(i)\n",
        "\n",
        "    def isEmpty(self) -> bool:\n",
        "        return len(self.__A) == 0\n",
        "\n",
        "    def clear(self):\n",
        "        self.__A = []\n",
        "\n",
        "    def size(self) -> int:\n",
        "        return len(self.__A)"
      ],
      "metadata": {
        "id": "W-X9tW_VdZVX"
      },
      "execution_count": 4,
      "outputs": []
    },
    {
      "cell_type": "code",
      "source": [
        "import csv\n",
        "from datetime import datetime\n",
        "\n",
        "heap = Heap()\n",
        "\n",
        "# birthday.csv 읽어서 힙에 저장\n",
        "with open('/content/drive/MyDrive/Colab Notebooks/birthday.csv', encoding='utf-8') as f:\n",
        "    reader = csv.DictReader(f)\n",
        "    for row in reader:\n",
        "        name = row['이름']\n",
        "\n",
        "        # 생년월일이 비어 있지 않은 경우만 처리\n",
        "        birth_date_str = row['생년월일8자리(예.20040101)'].strip()  # 공백 제거\n",
        "        if birth_date_str:\n",
        "            try:\n",
        "                # 날짜 형식을 맞추어 datetime으로 변환\n",
        "                birth_date = datetime.strptime(birth_date_str, \"%Y%m%d\")\n",
        "                timestamp = birth_date.timestamp()\n",
        "                # 힙에 (timestamp, 이름) 튜플 삽입\n",
        "                heap.insert((timestamp, name))\n",
        "            except ValueError:\n",
        "                # 날짜 형식 오류가 발생해도 출력하지 않음\n",
        "                pass  # 오류를 건너뛰고 처리하지 않음\n",
        "\n",
        "# 생일이 느린 순서로 10명 출력\n",
        "print(\"🎂 생일이 느린 순서로 10명의 친구:\")\n",
        "for i in range(10):\n",
        "    if heap.isEmpty():\n",
        "        break\n",
        "    _, name = heap.deleteMax()\n",
        "    print(f\"{i+1}. {name}\")\n"
      ],
      "metadata": {
        "colab": {
          "base_uri": "https://localhost:8080/"
        },
        "id": "H9R_0h5kdeG9",
        "outputId": "3195a7d9-e36c-433e-a43a-687114dd9512"
      },
      "execution_count": 5,
      "outputs": [
        {
          "output_type": "stream",
          "name": "stdout",
          "text": [
            "🎂 생일이 느린 순서로 10명의 친구:\n",
            "1. 신수민\n",
            "2. 이서영\n",
            "3. 강민주\n",
            "4. 김민경\n",
            "5. 이서영\n",
            "6. 배시은\n",
            "7. 김여원\n",
            "8. 이서진\n",
            "9. 서홍빈\n",
            "10. 김예빈\n"
          ]
        }
      ]
    },
    {
      "cell_type": "markdown",
      "source": [
        "# \"과제 4\"\n"
      ],
      "metadata": {
        "id": "_e33mGk5c8_D"
      }
    },
    {
      "cell_type": "code",
      "source": [
        "from google.colab import drive\n",
        "drive.mount('/content/drive')"
      ],
      "metadata": {
        "colab": {
          "base_uri": "https://localhost:8080/"
        },
        "id": "yjIMl8pZjAfZ",
        "outputId": "45e3eb50-058f-4198-d8cf-b8bd3d6e8bf6"
      },
      "execution_count": 3,
      "outputs": [
        {
          "output_type": "stream",
          "name": "stdout",
          "text": [
            "Mounted at /content/drive\n"
          ]
        }
      ]
    },
    {
      "cell_type": "code",
      "source": [
        "class Node:\n",
        "    def __init__(self, data):\n",
        "        self.data = data  # (이름, 생일) 튜플\n",
        "        self.prev = None\n",
        "        self.next = None\n",
        "\n",
        "class CircularDoublyLinkedList:\n",
        "    def __init__(self):\n",
        "        self.head = None\n",
        "\n",
        "    def isEmpty(self):\n",
        "        return self.head is None\n",
        "\n",
        "    def append(self, data):\n",
        "        new_node = Node(data)\n",
        "        if self.isEmpty():\n",
        "            self.head = new_node\n",
        "            new_node.prev = new_node\n",
        "            new_node.next = new_node\n",
        "        else:\n",
        "            tail = self.head.prev\n",
        "            tail.next = new_node\n",
        "            new_node.prev = tail\n",
        "            new_node.next = self.head\n",
        "            self.head.prev = new_node\n",
        "\n",
        "    def traverse(self, action=lambda x: print(x)):\n",
        "        if self.isEmpty():\n",
        "            return\n",
        "        current = self.head\n",
        "        while True:\n",
        "            action(current.data)\n",
        "            current = current.next\n",
        "            if current == self.head:\n",
        "                break\n"
      ],
      "metadata": {
        "id": "bipHWNGDinoK"
      },
      "execution_count": 1,
      "outputs": []
    },
    {
      "cell_type": "code",
      "source": [
        "\n",
        "class Node:\n",
        "    def __init__(self, data):\n",
        "        self.data = data  # (이름, 생일) 튜플\n",
        "        self.prev = None\n",
        "        self.next = None\n",
        "\n",
        "\n",
        "group_members = ['최수안', '오하민', '정승주', '이세윤', '이하민',\n",
        "                 '한수진', '성유빈', '안희랑', '정재윤', '김아린']\n",
        "\n",
        "import csv\n",
        "from datetime import datetime\n",
        "\n",
        "cdll = CircularDoublyLinkedList()\n",
        "\n",
        "with open('/content/drive/MyDrive/Colab Notebooks/birthday.csv', encoding='utf-8-sig') as f:\n",
        "    reader = csv.DictReader(f)\n",
        "    for row in reader:\n",
        "        name = row['이름']\n",
        "        birth_date_str = row['생년월일8자리(예.20040101)'].strip()\n",
        "        if birth_date_str:\n",
        "            try:\n",
        "                birth_date = datetime.strptime(birth_date_str, \"%Y%m%d\").date()\n",
        "                cdll.append((name, birth_date))\n",
        "            except ValueError:\n",
        "                pass\n",
        "\n",
        "\n",
        "print(\"🎂 조원들의 이름과 생년월일:\")\n",
        "visited = set()\n",
        "node = cdll.head\n",
        "\n",
        "while node and node not in visited:\n",
        "    visited.add(node)\n",
        "    name, birth = node.data\n",
        "    if name in group_members:\n",
        "        print(f\"{name} - {birth.strftime('%Y-%m-%d')}\")\n",
        "    node = node.next\n"
      ],
      "metadata": {
        "colab": {
          "base_uri": "https://localhost:8080/"
        },
        "id": "zaEBC2lEiqgF",
        "outputId": "0d42a956-e6f6-4306-9f9d-6306755d7fc3"
      },
      "execution_count": 5,
      "outputs": [
        {
          "output_type": "stream",
          "name": "stdout",
          "text": [
            "🎂 조원들의 이름과 생년월일:\n",
            "김아린 - 2003-11-28\n",
            "성유빈 - 2003-01-04\n",
            "안희랑 - 2003-09-26\n",
            "오하민 - 2005-05-09\n",
            "이세윤 - 2004-01-18\n",
            "정승주 - 2002-06-19\n",
            "정재윤 - 2005-02-24\n",
            "최수안 - 2005-07-04\n",
            "한수진 - 2004-08-05\n"
          ]
        }
      ]
    },
    {
      "cell_type": "markdown",
      "source": [
        "#\"과제 5\""
      ],
      "metadata": {
        "id": "fCztSujGj4dJ"
      }
    },
    {
      "cell_type": "code",
      "source": [
        "#1 // 그럴 수 없다. 더 얕은 위치는 더 깊은 위치보다 항상 크거나 같아야 한다."
      ],
      "metadata": {
        "id": "rHxYEX6Mj716"
      },
      "execution_count": 8,
      "outputs": []
    },
    {
      "cell_type": "code",
      "source": [
        "#2 // A[n-1]이 항상 가장 작은 값을 갖는 것은 아니다."
      ],
      "metadata": {
        "id": "T2uPRv3Hmvqn"
      },
      "execution_count": 9,
      "outputs": []
    },
    {
      "cell_type": "code",
      "source": [
        "#3 // (n//2)개"
      ],
      "metadata": {
        "id": "s45HderYnR8v"
      },
      "execution_count": 10,
      "outputs": []
    },
    {
      "cell_type": "code",
      "source": [
        "#4 // 최악의 경우 시간 복잡도: Θ(log n) , 최선의 경우 시간 복잡도: Θ(1)"
      ],
      "metadata": {
        "id": "4w8tqx1joCtQ"
      },
      "execution_count": 11,
      "outputs": []
    },
    {
      "cell_type": "code",
      "source": [
        "#5 // 간단한 작업이다."
      ],
      "metadata": {
        "id": "eQDKOqCOofwE"
      },
      "execution_count": 12,
      "outputs": []
    },
    {
      "cell_type": "code",
      "source": [
        "#6 // 아래쪽에서 위쪽으로 하는 buildHeap() 알고리즘이 더 효율적이다.\n",
        "\n",
        "#아래에서 위쪽으로 하는 buildHeap(): O(n)의 시간 복잡도,\n",
        "#위쪽에서 아래쪽으로 하는buildHeap(): O(n log n)의 시간 복잡도를 가지기 떄문이다.\n"
      ],
      "metadata": {
        "id": "kLymhPzwozNn"
      },
      "execution_count": 14,
      "outputs": []
    },
    {
      "cell_type": "code",
      "source": [
        "#7 // 임의의 원소 값이 증가했을 때, 이를 O(log n) 시간에 반영하여 힙을 수선하는 방법은 스며오르기(percolate up) 연산을 사용하는 것이다."
      ],
      "metadata": {
        "id": "9KDrs0ZDqK2z"
      },
      "execution_count": 15,
      "outputs": []
    },
    {
      "cell_type": "code",
      "source": [
        "#7의 코드 기술\n",
        "class MaxHeap:\n",
        "    def __init__(self):\n",
        "        self.heap = []\n",
        "\n",
        "    def percolate_up(self, index):\n",
        "        parent = (index - 1) // 2\n",
        "        # 부모 노드가 존재하고, 현재 노드가 부모보다 크면 교환\n",
        "        if index > 0 and self.heap[index] > self.heap[parent]:\n",
        "            self.heap[index], self.heap[parent] = self.heap[parent], self.heap[index]\n",
        "            self.percolate_up(parent)\n",
        "\n",
        "    def increase_key(self, index, new_value):\n",
        "        # 값을 증가시킨다 (새로운 값으로 설정)\n",
        "        self.heap[index] = new_value\n",
        "        # 값을 증가시킨 후 스며오르기 실행\n",
        "        self.percolate_up(index)\n",
        "\n",
        "    def insert(self, value):\n",
        "        # 새로운 값을 힙에 삽입하고 스며오르기 실행\n",
        "        self.heap.append(value)\n",
        "        self.percolate_up(len(self.heap) - 1)\n",
        "\n",
        "    def print_heap(self):\n",
        "        print(self.heap)\n",
        "\n",
        "# 사용 예시\n",
        "heap = MaxHeap()\n",
        "heap.insert(10)\n",
        "heap.insert(20)\n",
        "heap.insert(5)\n",
        "heap.insert(30)\n",
        "\n",
        "print(\"힙 초기 상태:\")\n",
        "heap.print_heap()\n",
        "\n",
        "# 인덱스 2에 있는 값 증가\n",
        "heap.increase_key(2, 25)\n",
        "\n",
        "print(\"값 증가 후 힙 상태:\")\n",
        "heap.print_heap()\n"
      ],
      "metadata": {
        "colab": {
          "base_uri": "https://localhost:8080/"
        },
        "id": "gsnCra5rsKj9",
        "outputId": "92786194-8f56-4925-f824-ee20ab020ba7"
      },
      "execution_count": 18,
      "outputs": [
        {
          "output_type": "stream",
          "name": "stdout",
          "text": [
            "힙 초기 상태:\n",
            "[30, 20, 5, 10]\n",
            "값 증가 후 힙 상태:\n",
            "[30, 20, 25, 10]\n"
          ]
        }
      ]
    },
    {
      "cell_type": "markdown",
      "source": [
        "# \"과제 6\""
      ],
      "metadata": {
        "id": "FvQ75wiGj9Ig"
      }
    },
    {
      "cell_type": "code",
      "source": [
        "class KthLargest:\n",
        "    def __init__(self, k, nums):\n",
        "        self.k = k\n",
        "        self.heap = []\n",
        "        for num in nums:\n",
        "            self.add(num)\n",
        "\n",
        "    def add(self, val):\n",
        "        self._insert(val)\n",
        "        if len(self.heap) > self.k:\n",
        "            self._removeMin()\n",
        "        return self.heap[0]\n",
        "\n",
        "    def _insert(self, val):\n",
        "        self.heap.append(val)\n",
        "        self._percolateUp(len(self.heap) - 1)\n",
        "\n",
        "    def _percolateUp(self, i):\n",
        "        parent = (i - 1) // 2\n",
        "        if i > 0 and self.heap[i] < self.heap[parent]:\n",
        "            self.heap[i], self.heap[parent] = self.heap[parent], self.heap[i]\n",
        "            self._percolateUp(parent)\n",
        "\n",
        "    def _removeMin(self):\n",
        "        if not self.heap:\n",
        "            return\n",
        "        last = self.heap.pop()\n",
        "        if self.heap:\n",
        "            self.heap[0] = last\n",
        "            self._percolateDown(0)\n",
        "\n",
        "    def _percolateDown(self, i):\n",
        "        child = 2 * i + 1\n",
        "        if child >= len(self.heap):\n",
        "            return\n",
        "        if child + 1 < len(self.heap) and self.heap[child + 1] < self.heap[child]:\n",
        "            child += 1\n",
        "        if self.heap[i] > self.heap[child]:\n",
        "            self.heap[i], self.heap[child] = self.heap[child], self.heap[i]\n",
        "            self._percolateDown(child)\n"
      ],
      "metadata": {
        "id": "9ufx2CGokAYq"
      },
      "execution_count": 6,
      "outputs": []
    },
    {
      "cell_type": "code",
      "source": [
        "# 예시\n",
        "kth = KthLargest(3, [4, 5, 8, 2])\n",
        "print(kth.add(3))\n",
        "print(kth.add(5))\n",
        "print(kth.add(10))\n",
        "print(kth.add(9))\n",
        "\n"
      ],
      "metadata": {
        "colab": {
          "base_uri": "https://localhost:8080/"
        },
        "id": "ypsSRmP5lrgI",
        "outputId": "a9ae2a1b-b6de-4e6e-960f-e3da0d1402f6"
      },
      "execution_count": 7,
      "outputs": [
        {
          "output_type": "stream",
          "name": "stdout",
          "text": [
            "4\n",
            "5\n",
            "5\n",
            "8\n"
          ]
        }
      ]
    },
    {
      "cell_type": "code",
      "source": [],
      "metadata": {
        "id": "wJcl6IXsl8Df"
      },
      "execution_count": null,
      "outputs": []
    }
  ]
}